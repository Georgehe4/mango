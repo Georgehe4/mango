{
 "cells": [
  {
   "cell_type": "markdown",
   "metadata": {},
   "source": [
    "# Visualization of Genomic Reads on GCE"
   ]
  },
  {
   "cell_type": "markdown",
   "metadata": {},
   "source": [
    "This tutorial demonstrates how to load and visualize genomic data from the 1000 Genomes Project stored on Google Storage.\n",
    "\n",
    "Mango uses docker containers to be run easily on cloud dataproc. To get everything setup and installed, follow documentation at http://bdg-mango.readthedocs.io/en/latest/cloud/google-cloud.html."
   ]
  },
  {
   "cell_type": "code",
   "execution_count": 1,
   "metadata": {},
   "outputs": [],
   "source": [
    "# Import ADAM and Mango modules\n",
    "from bdgenomics.adam.adamContext import ADAMContext\n",
    "from bdgenomics.mango.alignments import *\n",
    "\n",
    "from bdgenomics.adam.stringency import LENIENT"
   ]
  },
  {
   "cell_type": "markdown",
   "metadata": {},
   "source": [
    "Next, we will create an ADAMContext. ADAMContext allows us to load and manipulate genomic data."
   ]
  },
  {
   "cell_type": "code",
   "execution_count": 2,
   "metadata": {},
   "outputs": [],
   "source": [
    "# Create ADAM Context\n",
    "ac = ADAMContext(sc)"
   ]
  },
  {
   "cell_type": "code",
   "execution_count": 4,
   "metadata": {},
   "outputs": [],
   "source": [
    "# load in alignments from 1000 genomes from GS\n",
    "alignmentFile = \"gs://genomics-public-data/ftp-trace.ncbi.nih.gov/1000genomes/ftp/data/150140/alignment/150140.chrom20.ILLUMINA.bwa.CHM1.20131218.bam\"\n",
    "reads = ac.loadAlignments(alignmentFile, stringency=LENIENT)"
   ]
  },
  {
   "cell_type": "markdown",
   "metadata": {},
   "source": [
    "## Visualizing Alignments"
   ]
  },
  {
   "cell_type": "code",
   "execution_count": 5,
   "metadata": {},
   "outputs": [
    {
     "data": {
      "text/html": []
     },
     "output_type": "execute_result",
     "metadata": {}
    }
   ],
   "source": [
    "# Visualize alignments\n",
    "alignmentViz = AlignmentSummary(spark, ac, reads)\n",
    "\n",
    "contig = \"20\"\n",
    "start = 7500000\n",
    "end = 7500500\n",
    "\n",
    "alignmentViz.viewPileup(contig, start, end)"
   ]
  },
  {
   "cell_type": "code",
   "execution_count": null,
   "metadata": {},
   "outputs": [],
   "source": [
    ""
   ]
  }
 ],
 "metadata": {
  "kernelspec": {
   "display_name": "Python 2",
   "language": "python",
   "name": "python2"
  },
  "language_info": {
   "codemirror_mode": {
    "name": "ipython",
    "version": 2.0
   },
   "file_extension": ".py",
   "mimetype": "text/x-python",
   "name": "python",
   "nbconvert_exporter": "python",
   "pygments_lexer": "ipython2",
   "version": "2.7.10"
  }
 },
 "nbformat": 4,
 "nbformat_minor": 1
}