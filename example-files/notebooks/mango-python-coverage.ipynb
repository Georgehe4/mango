{
 "cells": [
  {
   "cell_type": "code",
   "execution_count": null,
   "metadata": {},
   "outputs": [],
   "source": [
    "################ For testing purposes only ################\n",
    "try:\n",
    "   testMode\n",
    "except NameError:\n",
    "   testMode = False\n",
    "\n",
    "try:\n",
    "    coverageFile\n",
    "except NameError:\n",
    "   # NOTE: this is for a local example. Based on file placement, you may have to change this path\n",
    "    coverageFile = os.getcwd() + \"/../chr17.7500000-7515000.sam.coverage.adam\""
   ]
  },
  {
   "cell_type": "code",
   "execution_count": null,
   "metadata": {},
   "outputs": [],
   "source": [
    "import os \n",
    "\n",
    "from bdgenomics.adam.adamContext import ADAMContext\n",
    "from bdgenomics.adam.rdd import AlignmentRecordRDD, CoverageRDD\n",
    "\n",
    "from bdgenomics.mango.QC import CoverageDistribution"
   ]
  },
  {
   "cell_type": "code",
   "execution_count": null,
   "metadata": {},
   "outputs": [],
   "source": [
    "ac = ADAMContext(spark)\n",
    "\n",
    "# load file\n",
    "coverage = ac.loadCoverage(coverageFile)"
   ]
  },
  {
   "cell_type": "code",
   "execution_count": null,
   "metadata": {},
   "outputs": [],
   "source": [
    "cd = CoverageDistribution(spark, coverage)"
   ]
  },
  {
   "cell_type": "code",
   "execution_count": null,
   "metadata": {},
   "outputs": [],
   "source": [
    "results = cd.plot(cumulative=False, testMode=testMode, labels=\"sample chr17 coverage\")"
   ]
  },
  {
   "cell_type": "code",
   "execution_count": null,
   "metadata": {},
   "outputs": [],
   "source": []
  }
 ],
 "metadata": {
  "kernelspec": {
   "display_name": "Python 2",
   "language": "python",
   "name": "python2"
  }
 },
 "nbformat": 4,
 "nbformat_minor": 1
}
